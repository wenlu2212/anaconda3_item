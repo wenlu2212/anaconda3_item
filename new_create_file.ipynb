# 先写行注释，下面写个 2*2，并打印
result = 2 * 2
result
